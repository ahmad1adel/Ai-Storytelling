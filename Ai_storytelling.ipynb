{
  "nbformat": 4,
  "nbformat_minor": 0,
  "metadata": {
    "colab": {
      "provenance": [],
      "gpuType": "T4",
      "authorship_tag": "ABX9TyMveFodaGVZz0af6GmicdQH",
      "include_colab_link": true
    },
    "kernelspec": {
      "name": "python3",
      "display_name": "Python 3"
    },
    "language_info": {
      "name": "python"
    },
    "accelerator": "GPU"
  },
  "cells": [
    {
      "cell_type": "markdown",
      "metadata": {
        "id": "view-in-github",
        "colab_type": "text"
      },
      "source": [
        "<a href=\"https://colab.research.google.com/github/ahmad1adel/Ai-Storytelling/blob/main/Ai_storytelling.ipynb\" target=\"_parent\"><img src=\"https://colab.research.google.com/assets/colab-badge.svg\" alt=\"Open In Colab\"/></a>"
      ]
    },
    {
      "cell_type": "code",
      "execution_count": null,
      "metadata": {
        "id": "2isLw4QUewan"
      },
      "outputs": [],
      "source": [
        "!pip install torch diffusers transformers accelerate safetensors xformers opencv-python pillow"
      ]
    },
    {
      "cell_type": "markdown",
      "source": [],
      "metadata": {
        "id": "l0KrkcIgfOtk"
      }
    },
    {
      "cell_type": "code",
      "source": [
        "import torch\n",
        "from diffusers import StableDiffusionPipeline\n",
        "from PIL import Image"
      ],
      "metadata": {
        "id": "oew_6HuCfPKG"
      },
      "execution_count": null,
      "outputs": []
    },
    {
      "cell_type": "code",
      "source": [
        "pipe = StableDiffusionPipeline.from_pretrained(\n",
        "    \"runwayml/stable-diffusion-v1-5\",\n",
        "    torch_dtype=torch.float16,\n",
        "    safety_checker=None  # علشان يوفر RAM\n",
        ").to(\"cuda\")"
      ],
      "metadata": {
        "id": "jgynbCNefTH0"
      },
      "execution_count": null,
      "outputs": []
    },
    {
      "cell_type": "code",
      "source": [
        "pipe.enable_attention_slicing()\n",
        "pipe.enable_xformers_memory_efficient_attention()"
      ],
      "metadata": {
        "id": "zB9uj5xJmzun"
      },
      "execution_count": null,
      "outputs": []
    },
    {
      "cell_type": "code",
      "source": [
        "pipe.load_lora_weights(\"/content/Kinomi Western Cartoon Style.safetensors\", adapter_name=\"cartoon3d\")\n",
        "pipe.set_adapters([\"cartoon3d\"])"
      ],
      "metadata": {
        "id": "3rMjwV9fhmys"
      },
      "execution_count": null,
      "outputs": []
    },
    {
      "cell_type": "code",
      "source": [
        "prompt = \"A cute 3D cartoon baby smiling, Pixar style, colorful background, high quality, cinematic lighting\"\n",
        "\n",
        "image = pipe(\n",
        "    prompt=prompt,\n",
        "    num_inference_steps=25,\n",
        "    guidance_scale=7.5\n",
        ").images[0]\n",
        "\n",
        "image.save(\"cartoon_baby_sd15.png\")\n",
        "print(\"cartoon_baby_sd15.png\")"
      ],
      "metadata": {
        "id": "SuLZvMchmP2J"
      },
      "execution_count": null,
      "outputs": []
    }
  ]
}